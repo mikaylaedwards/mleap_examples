{
 "cells": [
  {
   "cell_type": "code",
   "execution_count": 7,
   "metadata": {},
   "outputs": [],
   "source": [
    "import pandas as pd\n",
    "\n",
    "from mleap.sklearn.pipeline import Pipeline\n",
    "from mleap.sklearn.preprocessing.data import FeatureExtractor, LabelEncoder, ReshapeArrayToN1\n",
    "from sklearn.preprocessing import OneHotEncoder\n",
    "\n",
    "data = pd.DataFrame(['a', 'b', 'c'], columns=['col_a'])\n",
    "\n",
    "categorical_features = ['col_a']\n",
    "\n",
    "feature_extractor_tf = FeatureExtractor(input_scalars=categorical_features, \n",
    "                                         output_vector='imputed_features', \n",
    "                                         output_vector_items=categorical_features)\n",
    "\n",
    "# Label Encoder for x1 Label \n",
    "label_encoder_tf = LabelEncoder(input_features=feature_extractor_tf.output_vector_items,\n",
    "                               output_features='{}_label_le'.format(categorical_features[0]))\n",
    "\n",
    "# Reshape the output of the LabelEncoder to N-by-1 array\n",
    "reshape_le_tf = ReshapeArrayToN1()\n",
    "\n",
    "# Vector Assembler for x1 One Hot Encoder\n",
    "one_hot_encoder_tf = OneHotEncoder(sparse=False)\n",
    "one_hot_encoder_tf.mlinit(prior_tf = label_encoder_tf, \n",
    "                          output_features = '{}_label_one_hot_encoded'.format(categorical_features[0]))\n",
    "\n",
    "one_hot_encoder_pipeline_x0 = Pipeline([\n",
    "                                         (feature_extractor_tf.name, feature_extractor_tf),\n",
    "                                         (label_encoder_tf.name, label_encoder_tf),\n",
    "                                         (reshape_le_tf.name, reshape_le_tf),\n",
    "                                         (one_hot_encoder_tf.name, one_hot_encoder_tf)\n",
    "                                        ])\n"
   ]
  },
  {
   "cell_type": "code",
   "execution_count": 14,
   "metadata": {},
   "outputs": [],
   "source": [
    "one_hot_encoder_pipeline_x0.mlinit()\n",
    "one_hot_encoder_pipeline_x0.fit_transform(data)\n",
    "one_hot_encoder_pipeline_x0.serialize_to_bundle('./', 'mleap-scikit-test-pipeline', init=True)"
   ]
  },
  {
   "cell_type": "code",
   "execution_count": 10,
   "metadata": {},
   "outputs": [],
   "source": [
    "path='/home/mikayla/Documents/mleap'\n",
    "model_name='mleap-scikit-test-pipeline'\n",
    "model_dir = \"{}/{}\".format(path, model_name)\n",
    "os.mkdir(model_dir)"
   ]
  }
 ],
 "metadata": {
  "language_info": {
   "codemirror_mode": {
    "name": "ipython",
    "version": 3
   },
   "file_extension": ".py",
   "mimetype": "text/x-python",
   "name": "python",
   "nbconvert_exporter": "python",
   "pygments_lexer": "ipython3",
   "version": "3.7.6-final"
  },
  "orig_nbformat": 2,
  "kernelspec": {
   "name": "python37664bitd988811e9f5149eea160e709bc2ced10",
   "display_name": "Python 3.7.6 64-bit"
  }
 },
 "nbformat": 4,
 "nbformat_minor": 2
}